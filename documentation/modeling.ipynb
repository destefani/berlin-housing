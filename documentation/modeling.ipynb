{
 "cells": [
  {
   "cell_type": "code",
   "execution_count": 27,
   "metadata": {},
   "outputs": [],
   "source": [
    "from sklearn.preprocessing import StandardScaler, OneHotEncoder\n",
    "from sklearn.linear_model import LogisticRegression\n",
    "from sklearn.pipeline import Pipeline, make_pipeline\n",
    "from sklearn.compose import ColumnTransformer\n",
    "from sklearn.model_selection import train_test_split\n",
    "from sklearn.metrics import accuracy_score"
   ]
  },
  {
   "cell_type": "markdown",
   "metadata": {},
   "source": [
    "## Prepare Dataset"
   ]
  },
  {
   "cell_type": "code",
   "execution_count": 28,
   "metadata": {},
   "outputs": [],
   "source": [
    "import pandas as pd\n",
    "\n",
    "df = pd.read_csv(\"berlin-houses.txt\")\n",
    "\n",
    "columns = [\"balcony\", \"builtin_kitchen\",\n",
    "           \"energy_certificate\", \"has_new_flag\", \"living_space\",\n",
    "           \"number_rooms\", \"private_offer\",\n",
    "           \"quarter\", \"garden\", \"warm_price\"]"
   ]
  },
  {
   "cell_type": "code",
   "execution_count": 30,
   "metadata": {},
   "outputs": [
    {
     "name": "stdout",
     "output_type": "stream",
     "text": [
      "<class 'pandas.core.frame.DataFrame'>\n",
      "Int64Index: 1018 entries, 1 to 1037\n",
      "Data columns (total 10 columns):\n",
      " #   Column              Non-Null Count  Dtype  \n",
      "---  ------              --------------  -----  \n",
      " 0   balcony             1018 non-null   bool   \n",
      " 1   builtin_kitchen     1018 non-null   bool   \n",
      " 2   energy_certificate  1018 non-null   bool   \n",
      " 3   has_new_flag        1018 non-null   bool   \n",
      " 4   living_space        1018 non-null   float64\n",
      " 5   number_rooms        1018 non-null   float64\n",
      " 6   private_offer       1018 non-null   bool   \n",
      " 7   quarter             1018 non-null   object \n",
      " 8   garden              1018 non-null   bool   \n",
      " 9   warm_price          1018 non-null   float64\n",
      "dtypes: bool(6), float64(3), object(1)\n",
      "memory usage: 45.7+ KB\n"
     ]
    }
   ],
   "source": [
    "df = df[columns].dropna()\n",
    "df.info()"
   ]
  },
  {
   "cell_type": "code",
   "execution_count": null,
   "metadata": {},
   "outputs": [],
   "source": []
  },
  {
   "cell_type": "code",
   "execution_count": 31,
   "metadata": {},
   "outputs": [],
   "source": [
    "X_train, X_test, y_train, y_test = train_test_split(df.drop(\"warm_price\", axis=1), df[\"warm_price\"],\n",
    "                                                    test_size=0.2, random_state=0)"
   ]
  },
  {
   "cell_type": "markdown",
   "metadata": {},
   "source": [
    "## Pipeline"
   ]
  },
  {
   "cell_type": "code",
   "execution_count": 32,
   "metadata": {},
   "outputs": [
    {
     "data": {
      "text/plain": [
       "<814x12 sparse matrix of type '<class 'numpy.float64'>'\n",
       "\twith 1628 stored elements in Compressed Sparse Row format>"
      ]
     },
     "execution_count": 32,
     "metadata": {},
     "output_type": "execute_result"
    }
   ],
   "source": [
    "# create separate transformer pipelines for numerical and categorical data\n",
    "from sklearn.preprocessing import StandardScaler, OneHotEncoder, MinMaxScaler\n",
    "\n",
    "num_columns = [\"living_space\"]\n",
    "cat_columns = [\"quarter\"]\n",
    "\n",
    "\n",
    "full_pipe = ColumnTransformer([\n",
    "    (\"num\", StandardScaler(), num_columns),\n",
    "    (\"cat\", OneHotEncoder(), cat_columns)\n",
    "])\n",
    "\n",
    "housing_prepared = full_pipe.fit_transform(X_train)\n",
    "housing_prepared"
   ]
  },
  {
   "cell_type": "markdown",
   "metadata": {},
   "source": [
    "## Modeling"
   ]
  },
  {
   "cell_type": "code",
   "execution_count": 33,
   "metadata": {},
   "outputs": [
    {
     "name": "stdout",
     "output_type": "stream",
     "text": [
      "<class 'pandas.core.frame.DataFrame'>\n",
      "Int64Index: 814 entries, 804 to 704\n",
      "Data columns (total 9 columns):\n",
      " #   Column              Non-Null Count  Dtype  \n",
      "---  ------              --------------  -----  \n",
      " 0   balcony             814 non-null    bool   \n",
      " 1   builtin_kitchen     814 non-null    bool   \n",
      " 2   energy_certificate  814 non-null    bool   \n",
      " 3   has_new_flag        814 non-null    bool   \n",
      " 4   living_space        814 non-null    float64\n",
      " 5   number_rooms        814 non-null    float64\n",
      " 6   private_offer       814 non-null    bool   \n",
      " 7   quarter             814 non-null    object \n",
      " 8   garden              814 non-null    bool   \n",
      "dtypes: bool(6), float64(2), object(1)\n",
      "memory usage: 30.2+ KB\n"
     ]
    }
   ],
   "source": [
    "X_train.info()"
   ]
  },
  {
   "cell_type": "code",
   "execution_count": 34,
   "metadata": {},
   "outputs": [
    {
     "data": {
      "text/plain": [
       "array([2., 3., 5., 4.])"
      ]
     },
     "execution_count": 34,
     "metadata": {},
     "output_type": "execute_result"
    }
   ],
   "source": [
    "X_train.number_rooms.unique()"
   ]
  },
  {
   "cell_type": "code",
   "execution_count": 35,
   "metadata": {},
   "outputs": [
    {
     "data": {
      "text/plain": [
       "LinearRegression()"
      ]
     },
     "execution_count": 35,
     "metadata": {},
     "output_type": "execute_result"
    }
   ],
   "source": [
    "from sklearn.linear_model import LinearRegression\n",
    "\n",
    "lin_reg = LinearRegression()\n",
    "lin_reg.fit(housing_prepared, y_train)"
   ]
  },
  {
   "cell_type": "code",
   "execution_count": 36,
   "metadata": {},
   "outputs": [],
   "source": [
    "some_data = df.iloc[:10].drop(\"warm_price\", axis=1)\n",
    "some_label = df.iloc[:10][\"warm_price\"]\n",
    "\n",
    "some_data_prepared = full_pipe.transform(some_data)"
   ]
  },
  {
   "cell_type": "code",
   "execution_count": 37,
   "metadata": {},
   "outputs": [
    {
     "data": {
      "text/plain": [
       "array([ 916.05160666,  643.23665409, 1013.71957452,  982.75822215,\n",
       "       1090.41239916,  868.33613389,  976.59303424,  989.44034524,\n",
       "        978.52048379,  990.6469578 ])"
      ]
     },
     "execution_count": 37,
     "metadata": {},
     "output_type": "execute_result"
    }
   ],
   "source": [
    "lin_reg.predict(some_data_prepared)"
   ]
  },
  {
   "cell_type": "code",
   "execution_count": 38,
   "metadata": {},
   "outputs": [
    {
     "data": {
      "text/plain": [
       "1      630.98\n",
       "2      952.47\n",
       "3     1139.00\n",
       "4      735.51\n",
       "5     1364.62\n",
       "6      915.00\n",
       "7      975.00\n",
       "8      784.17\n",
       "9      985.00\n",
       "10     982.99\n",
       "Name: warm_price, dtype: float64"
      ]
     },
     "execution_count": 38,
     "metadata": {},
     "output_type": "execute_result"
    }
   ],
   "source": [
    "some_label"
   ]
  },
  {
   "cell_type": "markdown",
   "metadata": {},
   "source": [
    "## Evaluation"
   ]
  },
  {
   "cell_type": "code",
   "execution_count": 39,
   "metadata": {},
   "outputs": [
    {
     "data": {
      "text/plain": [
       "42230.47882459177"
      ]
     },
     "execution_count": 39,
     "metadata": {},
     "output_type": "execute_result"
    }
   ],
   "source": [
    "import numpy as np\n",
    "from sklearn.metrics import mean_squared_error\n",
    "\n",
    "housing_predictions = lin_reg.predict(housing_prepared)\n",
    "lin_mse = mean_squared_error(y_train, housing_predictions)\n",
    "lin_rmse = np.sqrt(lin_mse)\n",
    "lin_mse"
   ]
  },
  {
   "cell_type": "code",
   "execution_count": 40,
   "metadata": {},
   "outputs": [
    {
     "data": {
      "text/plain": [
       "DecisionTreeRegressor()"
      ]
     },
     "execution_count": 40,
     "metadata": {},
     "output_type": "execute_result"
    }
   ],
   "source": [
    "# try decision tree regressor\n",
    "from sklearn.tree import DecisionTreeRegressor\n",
    "\n",
    "tree_reg = DecisionTreeRegressor()\n",
    "tree_reg.fit(housing_prepared, y_train)"
   ]
  },
  {
   "cell_type": "code",
   "execution_count": 41,
   "metadata": {},
   "outputs": [
    {
     "data": {
      "text/plain": [
       "4948.438061909242"
      ]
     },
     "execution_count": 41,
     "metadata": {},
     "output_type": "execute_result"
    }
   ],
   "source": [
    "housing_predictions = tree_reg.predict(housing_prepared)\n",
    "tree_mse = mean_squared_error(y_train, housing_predictions)\n",
    "tree_rmse = np.sqrt(tree_mse)\n",
    "tree_mse"
   ]
  },
  {
   "cell_type": "code",
   "execution_count": 42,
   "metadata": {},
   "outputs": [
    {
     "data": {
      "text/plain": [
       "RandomForestRegressor()"
      ]
     },
     "execution_count": 42,
     "metadata": {},
     "output_type": "execute_result"
    }
   ],
   "source": [
    "# try decision tree regressor\n",
    "from sklearn.ensemble import RandomForestRegressor\n",
    "\n",
    "rf_reg = RandomForestRegressor()\n",
    "rf_reg.fit(housing_prepared, y_train)"
   ]
  },
  {
   "cell_type": "code",
   "execution_count": 43,
   "metadata": {},
   "outputs": [
    {
     "data": {
      "text/plain": [
       "9740.924266327864"
      ]
     },
     "execution_count": 43,
     "metadata": {},
     "output_type": "execute_result"
    }
   ],
   "source": [
    "housing_predictions = rf_reg.predict(housing_prepared)\n",
    "rf_mse = mean_squared_error(y_train, housing_predictions)\n",
    "rf_rmse = np.sqrt(rf_mse)\n",
    "rf_mse"
   ]
  },
  {
   "cell_type": "markdown",
   "metadata": {},
   "source": [
    "## Fine Tunning\n"
   ]
  },
  {
   "cell_type": "code",
   "execution_count": 44,
   "metadata": {},
   "outputs": [
    {
     "data": {
      "text/plain": [
       "GridSearchCV(cv=5, estimator=RandomForestRegressor(),\n",
       "             param_grid=[{'max_features': [2, 4, 6, 8],\n",
       "                          'n_estimators': [3, 10, 30]},\n",
       "                         {'bootstrap': [False], 'max_features': [2, 3, 4],\n",
       "                          'n_estimators': [3, 10]}],\n",
       "             return_train_score=True, scoring='neg_mean_squared_error')"
      ]
     },
     "execution_count": 44,
     "metadata": {},
     "output_type": "execute_result"
    }
   ],
   "source": [
    "from sklearn.model_selection import GridSearchCV\n",
    "\n",
    "param_grid = [\n",
    "    {\"n_estimators\": [3, 10, 30], \"max_features\": [2, 4, 6, 8]},\n",
    "    {\"bootstrap\": [False], \"n_estimators\": [3, 10], \"max_features\": [2, 3, 4]},\n",
    "]\n",
    "\n",
    "rf_reg = RandomForestRegressor()\n",
    "\n",
    "grid_search = GridSearchCV(rf_reg, param_grid, cv=5,\n",
    "                           scoring=\"neg_mean_squared_error\",\n",
    "                           return_train_score=True)\n",
    "\n",
    "grid_search.fit(housing_prepared, y_train)\n"
   ]
  },
  {
   "cell_type": "code",
   "execution_count": 67,
   "metadata": {},
   "outputs": [
    {
     "data": {
      "text/plain": [
       "['housing_model.pkl']"
      ]
     },
     "execution_count": 67,
     "metadata": {},
     "output_type": "execute_result"
    }
   ],
   "source": [
    "import joblib\n",
    "\n",
    "joblib.dump(grid_search.best_estimator_, \"housing_model.pkl\")"
   ]
  },
  {
   "cell_type": "code",
   "execution_count": 62,
   "metadata": {},
   "outputs": [
    {
     "name": "stdout",
     "output_type": "stream",
     "text": [
      "Best score: 218.05050933341406\n",
      "239.25498419471933 {'max_features': 2, 'n_estimators': 3}\n",
      "231.65764728239168 {'max_features': 2, 'n_estimators': 10}\n",
      "225.55886839897906 {'max_features': 2, 'n_estimators': 30}\n",
      "236.4503846481286 {'max_features': 4, 'n_estimators': 3}\n",
      "226.1620567545255 {'max_features': 4, 'n_estimators': 10}\n",
      "222.65499535371524 {'max_features': 4, 'n_estimators': 30}\n",
      "233.61039097606184 {'max_features': 6, 'n_estimators': 3}\n",
      "226.2819801949895 {'max_features': 6, 'n_estimators': 10}\n",
      "222.32191003197593 {'max_features': 6, 'n_estimators': 30}\n",
      "240.54722243986834 {'max_features': 8, 'n_estimators': 3}\n",
      "221.6311204670002 {'max_features': 8, 'n_estimators': 10}\n",
      "218.05050933341406 {'max_features': 8, 'n_estimators': 30}\n",
      "253.04568082688598 {'bootstrap': False, 'max_features': 2, 'n_estimators': 3}\n",
      "251.96432764085574 {'bootstrap': False, 'max_features': 2, 'n_estimators': 10}\n",
      "250.38725802570136 {'bootstrap': False, 'max_features': 3, 'n_estimators': 3}\n",
      "251.0653788460082 {'bootstrap': False, 'max_features': 3, 'n_estimators': 10}\n",
      "251.60113378195362 {'bootstrap': False, 'max_features': 4, 'n_estimators': 3}\n",
      "248.635389794647 {'bootstrap': False, 'max_features': 4, 'n_estimators': 10}\n"
     ]
    }
   ],
   "source": [
    "cvres = grid_search.cv_results_\n",
    "print(\"Best score:\", np.sqrt(-grid_search.best_score_))\n",
    "\n",
    "for mean_score, params in zip(cvres[\"mean_test_score\"], cvres[\"params\"]):\n",
    "    print(np.sqrt(-mean_score), params)"
   ]
  },
  {
   "cell_type": "code",
   "execution_count": 47,
   "metadata": {},
   "outputs": [
    {
     "name": "stdout",
     "output_type": "stream",
     "text": [
      "-47546.024620561286\n",
      "[ 903.29304312  560.95866667 1163.08103175  811.711      1347.875\n",
      "  870.32466667  930.41066667  800.87033333  887.92833333  967.83173889]\n",
      "[630.98, 952.47, 1139.0, 735.51, 1364.62, 915.0, 975.0, 784.17, 985.0, 982.99]\n"
     ]
    }
   ],
   "source": [
    "final_model = grid_search.best_estimator_\n",
    "\n",
    "some_data = df.iloc[:10].drop(\"warm_price\", axis=1)\n",
    "some_label = df.iloc[:10][\"warm_price\"]\n",
    "\n",
    "some_data_prepared = full_pipe.transform(some_data)\n",
    "\n",
    "final_predictions = final_model.predict(some_data_prepared)\n",
    "\n",
    "\n",
    "print(grid_search.best_score_)\n",
    "print(final_predictions)\n",
    "print(list(some_label))\n"
   ]
  },
  {
   "cell_type": "code",
   "execution_count": 63,
   "metadata": {},
   "outputs": [
    {
     "data": {
      "text/plain": [
       "balcony                              True\n",
       "builtin_kitchen                     False\n",
       "energy_certificate                  False\n",
       "has_new_flag                        False\n",
       "living_space                         59.0\n",
       "number_rooms                          2.0\n",
       "private_offer                       False\n",
       "quarter               Neukölln (Neukölln)\n",
       "garden                              False\n",
       "Name: 1, dtype: object"
      ]
     },
     "execution_count": 63,
     "metadata": {},
     "output_type": "execute_result"
    }
   ],
   "source": [
    "some_data.iloc[0]"
   ]
  },
  {
   "cell_type": "code",
   "execution_count": 71,
   "metadata": {},
   "outputs": [
    {
     "data": {
      "text/plain": [
       "array([ 903.29304312,  560.95866667, 1163.08103175,  811.711     ,\n",
       "       1347.875     ,  870.32466667,  930.41066667,  800.87033333,\n",
       "        887.92833333,  967.83173889])"
      ]
     },
     "execution_count": 71,
     "metadata": {},
     "output_type": "execute_result"
    }
   ],
   "source": [
    "clf = joblib.load(\"housing_model.pkl\")\n",
    "clf.predict(\n",
    "    full_pipe.transform(some_data)\n",
    "    )"
   ]
  },
  {
   "cell_type": "code",
   "execution_count": 48,
   "metadata": {},
   "outputs": [
    {
     "data": {
      "text/html": [
       "<div>\n",
       "<style scoped>\n",
       "    .dataframe tbody tr th:only-of-type {\n",
       "        vertical-align: middle;\n",
       "    }\n",
       "\n",
       "    .dataframe tbody tr th {\n",
       "        vertical-align: top;\n",
       "    }\n",
       "\n",
       "    .dataframe thead th {\n",
       "        text-align: right;\n",
       "    }\n",
       "</style>\n",
       "<table border=\"1\" class=\"dataframe\">\n",
       "  <thead>\n",
       "    <tr style=\"text-align: right;\">\n",
       "      <th></th>\n",
       "      <th>prediction</th>\n",
       "      <th>ground_truth</th>\n",
       "      <th>error</th>\n",
       "    </tr>\n",
       "  </thead>\n",
       "  <tbody>\n",
       "    <tr>\n",
       "      <th>0</th>\n",
       "      <td>903.293043</td>\n",
       "      <td>NaN</td>\n",
       "      <td>NaN</td>\n",
       "    </tr>\n",
       "    <tr>\n",
       "      <th>1</th>\n",
       "      <td>560.958667</td>\n",
       "      <td>630.98</td>\n",
       "      <td>70.021333</td>\n",
       "    </tr>\n",
       "    <tr>\n",
       "      <th>2</th>\n",
       "      <td>1163.081032</td>\n",
       "      <td>952.47</td>\n",
       "      <td>210.611032</td>\n",
       "    </tr>\n",
       "    <tr>\n",
       "      <th>3</th>\n",
       "      <td>811.711000</td>\n",
       "      <td>1139.00</td>\n",
       "      <td>327.289000</td>\n",
       "    </tr>\n",
       "    <tr>\n",
       "      <th>4</th>\n",
       "      <td>1347.875000</td>\n",
       "      <td>735.51</td>\n",
       "      <td>612.365000</td>\n",
       "    </tr>\n",
       "    <tr>\n",
       "      <th>5</th>\n",
       "      <td>870.324667</td>\n",
       "      <td>1364.62</td>\n",
       "      <td>494.295333</td>\n",
       "    </tr>\n",
       "    <tr>\n",
       "      <th>6</th>\n",
       "      <td>930.410667</td>\n",
       "      <td>915.00</td>\n",
       "      <td>15.410667</td>\n",
       "    </tr>\n",
       "    <tr>\n",
       "      <th>7</th>\n",
       "      <td>800.870333</td>\n",
       "      <td>975.00</td>\n",
       "      <td>174.129667</td>\n",
       "    </tr>\n",
       "    <tr>\n",
       "      <th>8</th>\n",
       "      <td>887.928333</td>\n",
       "      <td>784.17</td>\n",
       "      <td>103.758333</td>\n",
       "    </tr>\n",
       "    <tr>\n",
       "      <th>9</th>\n",
       "      <td>967.831739</td>\n",
       "      <td>985.00</td>\n",
       "      <td>17.168261</td>\n",
       "    </tr>\n",
       "  </tbody>\n",
       "</table>\n",
       "</div>"
      ],
      "text/plain": [
       "    prediction  ground_truth       error\n",
       "0   903.293043           NaN         NaN\n",
       "1   560.958667        630.98   70.021333\n",
       "2  1163.081032        952.47  210.611032\n",
       "3   811.711000       1139.00  327.289000\n",
       "4  1347.875000        735.51  612.365000\n",
       "5   870.324667       1364.62  494.295333\n",
       "6   930.410667        915.00   15.410667\n",
       "7   800.870333        975.00  174.129667\n",
       "8   887.928333        784.17  103.758333\n",
       "9   967.831739        985.00   17.168261"
      ]
     },
     "execution_count": 48,
     "metadata": {},
     "output_type": "execute_result"
    }
   ],
   "source": [
    "results_df = pd.DataFrame()\n",
    "results_df[\"prediction\"] = final_predictions\n",
    "results_df[\"ground_truth\"] = some_label\n",
    "results_df[\"error\"] = abs(results_df.prediction - results_df.ground_truth)\n",
    "results_df"
   ]
  },
  {
   "cell_type": "code",
   "execution_count": 49,
   "metadata": {},
   "outputs": [
    {
     "data": {
      "text/html": [
       "<div>\n",
       "<style scoped>\n",
       "    .dataframe tbody tr th:only-of-type {\n",
       "        vertical-align: middle;\n",
       "    }\n",
       "\n",
       "    .dataframe tbody tr th {\n",
       "        vertical-align: top;\n",
       "    }\n",
       "\n",
       "    .dataframe thead th {\n",
       "        text-align: right;\n",
       "    }\n",
       "</style>\n",
       "<table border=\"1\" class=\"dataframe\">\n",
       "  <thead>\n",
       "    <tr style=\"text-align: right;\">\n",
       "      <th></th>\n",
       "      <th>prediction</th>\n",
       "      <th>ground_truth</th>\n",
       "      <th>error</th>\n",
       "    </tr>\n",
       "  </thead>\n",
       "  <tbody>\n",
       "    <tr>\n",
       "      <th>count</th>\n",
       "      <td>10.000000</td>\n",
       "      <td>9.000000</td>\n",
       "      <td>9.000000</td>\n",
       "    </tr>\n",
       "    <tr>\n",
       "      <th>mean</th>\n",
       "      <td>924.428448</td>\n",
       "      <td>942.416667</td>\n",
       "      <td>225.005403</td>\n",
       "    </tr>\n",
       "    <tr>\n",
       "      <th>std</th>\n",
       "      <td>211.599718</td>\n",
       "      <td>219.508995</td>\n",
       "      <td>212.623241</td>\n",
       "    </tr>\n",
       "    <tr>\n",
       "      <th>min</th>\n",
       "      <td>560.958667</td>\n",
       "      <td>630.980000</td>\n",
       "      <td>15.410667</td>\n",
       "    </tr>\n",
       "    <tr>\n",
       "      <th>25%</th>\n",
       "      <td>826.364417</td>\n",
       "      <td>784.170000</td>\n",
       "      <td>70.021333</td>\n",
       "    </tr>\n",
       "    <tr>\n",
       "      <th>50%</th>\n",
       "      <td>895.610688</td>\n",
       "      <td>952.470000</td>\n",
       "      <td>174.129667</td>\n",
       "    </tr>\n",
       "    <tr>\n",
       "      <th>75%</th>\n",
       "      <td>958.476471</td>\n",
       "      <td>985.000000</td>\n",
       "      <td>327.289000</td>\n",
       "    </tr>\n",
       "    <tr>\n",
       "      <th>max</th>\n",
       "      <td>1347.875000</td>\n",
       "      <td>1364.620000</td>\n",
       "      <td>612.365000</td>\n",
       "    </tr>\n",
       "  </tbody>\n",
       "</table>\n",
       "</div>"
      ],
      "text/plain": [
       "        prediction  ground_truth       error\n",
       "count    10.000000      9.000000    9.000000\n",
       "mean    924.428448    942.416667  225.005403\n",
       "std     211.599718    219.508995  212.623241\n",
       "min     560.958667    630.980000   15.410667\n",
       "25%     826.364417    784.170000   70.021333\n",
       "50%     895.610688    952.470000  174.129667\n",
       "75%     958.476471    985.000000  327.289000\n",
       "max    1347.875000   1364.620000  612.365000"
      ]
     },
     "execution_count": 49,
     "metadata": {},
     "output_type": "execute_result"
    }
   ],
   "source": [
    "results_df.describe()"
   ]
  }
 ],
 "metadata": {
  "interpreter": {
   "hash": "7d2e77a3e4331f30d35d0db081d7d97b797b886914d2822220b56dc667b31339"
  },
  "kernelspec": {
   "display_name": "Python 3.7.11 64-bit ('berlin-housing': conda)",
   "language": "python",
   "name": "python3"
  },
  "language_info": {
   "codemirror_mode": {
    "name": "ipython",
    "version": 3
   },
   "file_extension": ".py",
   "mimetype": "text/x-python",
   "name": "python",
   "nbconvert_exporter": "python",
   "pygments_lexer": "ipython3",
   "version": "3.7.11"
  },
  "orig_nbformat": 4
 },
 "nbformat": 4,
 "nbformat_minor": 2
}
